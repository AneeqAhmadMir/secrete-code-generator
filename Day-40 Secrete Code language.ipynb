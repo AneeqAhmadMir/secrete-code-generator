{
 "cells": [
  {
   "cell_type": "code",
   "execution_count": null,
   "id": "320c464b-8d8a-4ebd-b7ac-c057bada13df",
   "metadata": {},
   "outputs": [],
   "source": [
    "import random\n",
    "import string\n",
    "message = input(\"Enter a message : \")\n",
    "words = message.split(\" \")\n",
    "\n",
    "x = int(input(\"Enter 1 for coding 0 for decoding \\n\"))\n",
    "match x:\n",
    "    case 1:\n",
    "        nwords = []\n",
    "        for word in words:\n",
    "            if len(word) <= 2:\n",
    "                reversed_string = word[::-1]\n",
    "                nwords.append(reversed_string)\n",
    "\n",
    "            elif len(word) >=3:\n",
    "                random_char_list1 = []\n",
    "                random_char_list2 = []\n",
    "                for i in range(3):\n",
    "\n",
    "                    random_chars1 = random.choice(string.ascii_lowercase)\n",
    "                    random_chars2 = random.choice(string.ascii_lowercase)\n",
    "\n",
    "                    random_char_list1.append(random_chars1)\n",
    "                    random_char_list2.append(random_chars2)\n",
    "                \n",
    "                    random_chars_join1 = ''.join(random_char_list1)\n",
    "                    random_chars_join2 = ''.join(random_char_list2)\n",
    "\n",
    "                move_first_to_last = random_chars_join1 + word[1:] + word[0] + random_chars_join2\n",
    "                nwords.append(move_first_to_last)\n",
    "        print(\" \".join(nwords))\n",
    "\n",
    "    case 0:\n",
    "        nwords = []\n",
    "        for word in words:\n",
    "            if len(word) <= 2:\n",
    "                reversed_string = word[::-1]\n",
    "                nwords.append(reversed_string)\n",
    "\n",
    "            elif len(word) >= 3:\n",
    "                stnew = word[3:-3]\n",
    "                stnew = stnew[-1] + stnew[:-1]\n",
    "                nwords.append(stnew)\n",
    "        print(\" \".join(nwords))"
   ]
  },
  {
   "cell_type": "code",
   "execution_count": null,
   "id": "476e2515-1fce-4baa-aa62-1a467e3aeed6",
   "metadata": {},
   "outputs": [],
   "source": []
  }
 ],
 "metadata": {
  "kernelspec": {
   "display_name": "Python 3 (ipykernel)",
   "language": "python",
   "name": "python3"
  },
  "language_info": {
   "codemirror_mode": {
    "name": "ipython",
    "version": 3
   },
   "file_extension": ".py",
   "mimetype": "text/x-python",
   "name": "python",
   "nbconvert_exporter": "python",
   "pygments_lexer": "ipython3",
   "version": "3.12.3"
  }
 },
 "nbformat": 4,
 "nbformat_minor": 5
}
